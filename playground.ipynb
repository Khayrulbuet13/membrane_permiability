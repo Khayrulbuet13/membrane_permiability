{
 "cells": [
  {
   "cell_type": "code",
   "execution_count": null,
   "metadata": {},
   "outputs": [],
   "source": [
    "import numpy as np"
   ]
  },
  {
   "attachments": {},
   "cell_type": "markdown",
   "metadata": {},
   "source": [
    "# create RDF"
   ]
  },
  {
   "cell_type": "code",
   "execution_count": null,
   "metadata": {},
   "outputs": [],
   "source": [
    "\n",
    "\n",
    "def calculate_rdf(coordinates, atom_types, dr, r_max):\n",
    "    \"\"\"\n",
    "    Calculate the radial distribution function.\n",
    "\n",
    "    Parameters:\n",
    "    coordinates (numpy.ndarray): The coordinates of the particles.\n",
    "    atom_types (numpy.ndarray): The type of each atom.\n",
    "    dr (float): The width of the bins in the histogram.\n",
    "    r_max (float): The maximum distance to consider in the RDF calculation.\n",
    "\n",
    "    Returns:\n",
    "    tuple: (g, r) where g is the RDF and r is the array of distance bins.\n",
    "    \"\"\"\n",
    "    from scipy.spatial.distance import pdist, squareform\n",
    "\n",
    "    # Number of particles\n",
    "    N = len(coordinates)\n",
    "\n",
    "    # Calculate the pairwise distances\n",
    "    r = pdist(coordinates)\n",
    "\n",
    "    # Only consider distances up to r_max\n",
    "    r = r[r < r_max]\n",
    "\n",
    "    # Generate the bins for the histogram\n",
    "    bins = np.arange(0, r_max, dr)\n",
    "\n",
    "    # Calculate the histogram\n",
    "    hist, edges = np.histogram(r, bins=bins)\n",
    "\n",
    "    # Normalize the RDF\n",
    "    rho = N / (4/3 * np.pi * r_max**3)  # density\n",
    "    r = edges[:-1] + dr/2  # positions of the bin centers\n",
    "    ideal_hist = 4 * np.pi * rho * r**2 * dr  # ideal histogram for a uniform distribution\n",
    "    g = hist / ideal_hist\n",
    "\n",
    "    return g, r\n",
    "\n",
    "\n",
    "\n",
    "    g, r = calculate_rdf(added_layers[:,1:], added_layers[:,0], .1, 5)\n",
    "    import matplotlib.pyplot as plt\n",
    "    # Plot the RDF\n",
    "    plt.figure(figsize=(7, 5))\n",
    "    plt.plot(r, g, label='g(r)')\n",
    "    plt.title('Radial Distribution Function')\n",
    "    plt.xlabel('Distance (r)')\n",
    "    plt.ylabel('g(r)')\n",
    "    plt.legend()\n",
    "    plt.grid(True)\n",
    "    plt.savefig(filename[:-4] + '.png')"
   ]
  },
  {
   "attachments": {},
   "cell_type": "markdown",
   "metadata": {},
   "source": [
    "# select all R1 even particle"
   ]
  },
  {
   "cell_type": "code",
   "execution_count": null,
   "metadata": {},
   "outputs": [],
   "source": [
    "s = \" || \".join(f\"ParticleIdentifier == {i}\" for i in range(10088, 10587, 2))\n",
    "print(s)\n"
   ]
  },
  {
   "cell_type": "code",
   "execution_count": null,
   "metadata": {},
   "outputs": [],
   "source": []
  }
 ],
 "metadata": {
  "kernelspec": {
   "display_name": "membrane",
   "language": "python",
   "name": "python3"
  },
  "language_info": {
   "codemirror_mode": {
    "name": "ipython",
    "version": 3
   },
   "file_extension": ".py",
   "mimetype": "text/x-python",
   "name": "python",
   "nbconvert_exporter": "python",
   "pygments_lexer": "ipython3",
   "version": "3.8.17"
  },
  "orig_nbformat": 4
 },
 "nbformat": 4,
 "nbformat_minor": 2
}
